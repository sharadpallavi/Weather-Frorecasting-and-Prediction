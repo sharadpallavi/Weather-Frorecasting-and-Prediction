{
 "cells": [
  {
   "cell_type": "code",
   "execution_count": null,
   "metadata": {},
   "outputs": [],
   "source": [
    "import wx\n",
    "import os\n",
    "import time\n",
    "import sys"
   ]
  },
  {
   "cell_type": "code",
   "execution_count": null,
   "metadata": {},
   "outputs": [],
   "source": [
    "print (\"[1.Linear Regression]     [2.Random Forest Regression]     [3.K-Nearest Neighbors] \")"
   ]
  },
  {
   "cell_type": "code",
   "execution_count": null,
   "metadata": {},
   "outputs": [],
   "source": [
    "txt = input(\"Please input a digit for the algorithm you choose: \")"
   ]
  },
  {
   "cell_type": "code",
   "execution_count": null,
   "metadata": {},
   "outputs": [],
   "source": [
    "if (txt==\"1\"):\n",
    "    alg = \"Linear Regression\"\n",
    "elif(txt==\"2\"):\n",
    "    alg = \"Random Forest Regression\"\n",
    "elif(txt==\"3\"):\n",
    "    alg = \"K-Nearest Neighbors\"\n",
    "else:\n",
    "    alg = \"Error\"\n",
    "print(\"You have choose the algorithm: \",alg)"
   ]
  },
  {
   "cell_type": "code",
   "execution_count": null,
   "metadata": {},
   "outputs": [],
   "source": [
    "input_max_temp = input(\"Please input maximum of temperature: \")\n",
    "input_min_temp = input(\"Please input minimum of temperature: \")\n",
    "input_meandew = input(\"Please input mean dew point: \")\n",
    "input_meanhum = input(\"Please input mean humidity: \")\n",
    "input_pressure = input(\"Please input mean pressure: \")"
   ]
  },
  {
   "cell_type": "code",
   "execution_count": null,
   "metadata": {},
   "outputs": [],
   "source": [
    "if (txt==\"1\"):\n",
    "    os.system('py -3.6 -m Linear_Regression.py')\n",
    "elif(txt==\"2\"):\n",
    "   os.system('py -3.6 -m Main_Forecast.py')\n",
    "elif(txt==\"3\"):\n",
    "    os.system('py -3.6 -m Main_Forecast.py')\n",
    "else:\n",
    "    sys.exit(0)"
   ]
  },
  {
   "cell_type": "code",
   "execution_count": null,
   "metadata": {},
   "outputs": [],
   "source": []
  },
  {
   "cell_type": "code",
   "execution_count": null,
   "metadata": {},
   "outputs": [],
   "source": []
  },
  {
   "cell_type": "code",
   "execution_count": null,
   "metadata": {},
   "outputs": [],
   "source": []
  }
 ],
 "metadata": {
  "kernelspec": {
   "display_name": "Python 3",
   "language": "python",
   "name": "python3"
  },
  "language_info": {
   "codemirror_mode": {
    "name": "ipython",
    "version": 3
   },
   "file_extension": ".py",
   "mimetype": "text/x-python",
   "name": "python",
   "nbconvert_exporter": "python",
   "pygments_lexer": "ipython3",
   "version": "3.7.3"
  }
 },
 "nbformat": 4,
 "nbformat_minor": 2
}
